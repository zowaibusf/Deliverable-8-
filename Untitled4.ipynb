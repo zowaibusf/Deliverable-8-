{
  "nbformat": 4,
  "nbformat_minor": 0,
  "metadata": {
    "colab": {
      "provenance": []
    },
    "kernelspec": {
      "name": "python3",
      "display_name": "Python 3"
    },
    "language_info": {
      "name": "python"
    }
  },
  "cells": [
    {
      "cell_type": "code",
      "execution_count": 1,
      "metadata": {
        "colab": {
          "base_uri": "https://localhost:8080/"
        },
        "id": "IH4WPkXBgYFI",
        "outputId": "fb8bdb87-4598-4c1d-dffa-11ec457e7daf"
      },
      "outputs": [
        {
          "output_type": "stream",
          "name": "stdout",
          "text": [
            "Enter an integer between 5 and 15: 6\n",
            "The elements of the array are: 43 42 19 50 13 13\n",
            "The sum is: 180\n"
          ]
        }
      ],
      "source": [
        "import random\n",
        "\n",
        "# Define Method 1 to randomly populate a list with integers between 10 and 50\n",
        "def populate_list(length):\n",
        "    return [random.randint(10, 50) for _ in range(length)]\n",
        "\n",
        "# Define Method 2 to return the sum of all elements in a list\n",
        "def sum_list(lst):\n",
        "    return sum(lst)\n",
        "\n",
        "# Prompt the user to enter an integer between 5 and 15\n",
        "while True:\n",
        "    user_input = input(\"Enter an integer between 5 and 15: \")\n",
        "    try:\n",
        "        user_input = int(user_input)\n",
        "        if 5 <= user_input <= 15:\n",
        "            break\n",
        "        else:\n",
        "            print(\"Invalid input, please try again.\")\n",
        "    except ValueError:\n",
        "        print(\"Invalid input, please try again.\")\n",
        "\n",
        "# Use Method 1 to randomly populate a list with a length equal to the user's input\n",
        "lst = populate_list(user_input)\n",
        "\n",
        "# Display the elements in the list\n",
        "print(\"The elements of the array are: \", end=\"\")\n",
        "for i in range(len(lst)):\n",
        "    if i < len(lst) - 1:\n",
        "        print(lst[i], end=\" \")\n",
        "    else:\n",
        "        print(lst[i])\n",
        "\n",
        "# Use Method 2 to sum all elements in the list\n",
        "total = sum_list(lst)\n",
        "\n",
        "# Display the sum of the elements in the list\n",
        "print(\"The sum is:\", total)\n",
        "\n"
      ]
    }
  ]
}